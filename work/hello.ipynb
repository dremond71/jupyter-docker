{
 "cells": [
  {
   "cell_type": "code",
   "execution_count": null,
   "id": "fd1ea3e6-d632-45a2-a7f2-3a14e8f59d9f",
   "metadata": {},
   "outputs": [],
   "source": [
    "print('hello world');\n",
    "print('');\n",
    "print('world hello');"
   ]
  }
 ],
 "metadata": {
  "kernelspec": {
   "display_name": "Python 3 (ipykernel)",
   "language": "python",
   "name": "python3"
  },
  "language_info": {
   "codemirror_mode": {
    "name": "ipython",
    "version": 3
   },
   "file_extension": ".py",
   "mimetype": "text/x-python",
   "name": "python",
   "nbconvert_exporter": "python",
   "pygments_lexer": "ipython3",
   "version": "3.10.9"
  }
 },
 "nbformat": 4,
 "nbformat_minor": 5
}
